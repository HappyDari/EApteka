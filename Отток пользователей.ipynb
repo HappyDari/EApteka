{
 "cells": [
  {
   "cell_type": "markdown",
   "id": "e2aeed63",
   "metadata": {},
   "source": [
    "# Отток пользователей"
   ]
  },
  {
   "cell_type": "markdown",
   "id": "5927c882",
   "metadata": {},
   "source": [
    "**Задача**\n",
    "\n",
    "Необходимо построить модель классификации и спрогнозировать, уйдет пользователь сайта или нет.\n",
    "\n",
    "Необходимо развернутое решение с EDA, сравнением алгоритмов и т.д.,\n",
    "какими-то инсайтами с комментариями в виде маркдаунов.\n",
    "\n",
    "**План проекта**\n",
    "1. Обзор данных\n",
    "2. Предобработка\n",
    "3. Обучение моделей\n",
    "4. Тестирование моделей"
   ]
  },
  {
   "cell_type": "markdown",
   "id": "bdf75cc6",
   "metadata": {},
   "source": [
    "## Обзор данных"
   ]
  },
  {
   "cell_type": "code",
   "execution_count": 1,
   "id": "e6a05371",
   "metadata": {},
   "outputs": [],
   "source": [
    "# импортируем необходимые библиотеки\n",
    "import pandas as pd\n",
    "import numpy as np\n",
    "import matplotlib.pyplot as plt\n",
    "\n",
    "#!pip install sweetviz\n",
    "import sweetviz as sv\n",
    "\n",
    "#!pip install fast_ml\n",
    "from fast_ml.model_development import train_valid_test_split\n",
    "from sklearn.model_selection import train_test_split\n",
    "from sklearn.preprocessing import OrdinalEncoder\n",
    "from sklearn.preprocessing import StandardScaler \n",
    "\n",
    "from sklearn.metrics import f1_score, roc_auc_score\n",
    "from sklearn.model_selection import GridSearchCV, cross_val_score\n",
    "from sklearn.tree import DecisionTreeClassifier\n",
    "from sklearn.ensemble import RandomForestClassifier\n",
    "from sklearn.linear_model import LogisticRegression\n",
    "from sklearn.naive_bayes import GaussianNB\n",
    "from sklearn.dummy import DummyClassifier"
   ]
  },
  {
   "cell_type": "code",
   "execution_count": 2,
   "id": "e84655ff",
   "metadata": {
    "scrolled": true
   },
   "outputs": [
    {
     "data": {
      "text/html": [
       "<div>\n",
       "<style scoped>\n",
       "    .dataframe tbody tr th:only-of-type {\n",
       "        vertical-align: middle;\n",
       "    }\n",
       "\n",
       "    .dataframe tbody tr th {\n",
       "        vertical-align: top;\n",
       "    }\n",
       "\n",
       "    .dataframe thead th {\n",
       "        text-align: right;\n",
       "    }\n",
       "</style>\n",
       "<table border=\"1\" class=\"dataframe\">\n",
       "  <thead>\n",
       "    <tr style=\"text-align: right;\">\n",
       "      <th></th>\n",
       "      <th>rev_Mean</th>\n",
       "      <th>mou_Mean</th>\n",
       "      <th>totmrc_Mean</th>\n",
       "      <th>da_Mean</th>\n",
       "      <th>ovrmou_Mean</th>\n",
       "      <th>ovrrev_Mean</th>\n",
       "      <th>vceovr_Mean</th>\n",
       "      <th>datovr_Mean</th>\n",
       "      <th>roam_Mean</th>\n",
       "      <th>change_mou</th>\n",
       "      <th>...</th>\n",
       "      <th>forgntvl</th>\n",
       "      <th>ethnic</th>\n",
       "      <th>kid0_2</th>\n",
       "      <th>kid3_5</th>\n",
       "      <th>kid6_10</th>\n",
       "      <th>kid11_15</th>\n",
       "      <th>kid16_17</th>\n",
       "      <th>creditcd</th>\n",
       "      <th>eqpdays</th>\n",
       "      <th>Customer_ID</th>\n",
       "    </tr>\n",
       "  </thead>\n",
       "  <tbody>\n",
       "    <tr>\n",
       "      <th>0</th>\n",
       "      <td>23.9975</td>\n",
       "      <td>219.25</td>\n",
       "      <td>22.500</td>\n",
       "      <td>0.2475</td>\n",
       "      <td>0.00</td>\n",
       "      <td>0.0</td>\n",
       "      <td>0.0</td>\n",
       "      <td>0.0</td>\n",
       "      <td>0.0</td>\n",
       "      <td>-157.25</td>\n",
       "      <td>...</td>\n",
       "      <td>0.0</td>\n",
       "      <td>N</td>\n",
       "      <td>U</td>\n",
       "      <td>U</td>\n",
       "      <td>U</td>\n",
       "      <td>U</td>\n",
       "      <td>U</td>\n",
       "      <td>Y</td>\n",
       "      <td>361.0</td>\n",
       "      <td>1000001</td>\n",
       "    </tr>\n",
       "    <tr>\n",
       "      <th>1</th>\n",
       "      <td>57.4925</td>\n",
       "      <td>482.75</td>\n",
       "      <td>37.425</td>\n",
       "      <td>0.2475</td>\n",
       "      <td>22.75</td>\n",
       "      <td>9.1</td>\n",
       "      <td>9.1</td>\n",
       "      <td>0.0</td>\n",
       "      <td>0.0</td>\n",
       "      <td>532.25</td>\n",
       "      <td>...</td>\n",
       "      <td>0.0</td>\n",
       "      <td>Z</td>\n",
       "      <td>U</td>\n",
       "      <td>U</td>\n",
       "      <td>U</td>\n",
       "      <td>U</td>\n",
       "      <td>U</td>\n",
       "      <td>Y</td>\n",
       "      <td>240.0</td>\n",
       "      <td>1000002</td>\n",
       "    </tr>\n",
       "    <tr>\n",
       "      <th>2</th>\n",
       "      <td>16.9900</td>\n",
       "      <td>10.25</td>\n",
       "      <td>16.990</td>\n",
       "      <td>0.0000</td>\n",
       "      <td>0.00</td>\n",
       "      <td>0.0</td>\n",
       "      <td>0.0</td>\n",
       "      <td>0.0</td>\n",
       "      <td>0.0</td>\n",
       "      <td>-4.25</td>\n",
       "      <td>...</td>\n",
       "      <td>0.0</td>\n",
       "      <td>N</td>\n",
       "      <td>U</td>\n",
       "      <td>Y</td>\n",
       "      <td>U</td>\n",
       "      <td>U</td>\n",
       "      <td>U</td>\n",
       "      <td>Y</td>\n",
       "      <td>1504.0</td>\n",
       "      <td>1000003</td>\n",
       "    </tr>\n",
       "    <tr>\n",
       "      <th>3</th>\n",
       "      <td>38.0000</td>\n",
       "      <td>7.50</td>\n",
       "      <td>38.000</td>\n",
       "      <td>0.0000</td>\n",
       "      <td>0.00</td>\n",
       "      <td>0.0</td>\n",
       "      <td>0.0</td>\n",
       "      <td>0.0</td>\n",
       "      <td>0.0</td>\n",
       "      <td>-1.50</td>\n",
       "      <td>...</td>\n",
       "      <td>0.0</td>\n",
       "      <td>U</td>\n",
       "      <td>Y</td>\n",
       "      <td>U</td>\n",
       "      <td>U</td>\n",
       "      <td>U</td>\n",
       "      <td>U</td>\n",
       "      <td>Y</td>\n",
       "      <td>1812.0</td>\n",
       "      <td>1000004</td>\n",
       "    </tr>\n",
       "    <tr>\n",
       "      <th>4</th>\n",
       "      <td>55.2300</td>\n",
       "      <td>570.50</td>\n",
       "      <td>71.980</td>\n",
       "      <td>0.0000</td>\n",
       "      <td>0.00</td>\n",
       "      <td>0.0</td>\n",
       "      <td>0.0</td>\n",
       "      <td>0.0</td>\n",
       "      <td>0.0</td>\n",
       "      <td>38.50</td>\n",
       "      <td>...</td>\n",
       "      <td>0.0</td>\n",
       "      <td>I</td>\n",
       "      <td>U</td>\n",
       "      <td>U</td>\n",
       "      <td>U</td>\n",
       "      <td>U</td>\n",
       "      <td>U</td>\n",
       "      <td>Y</td>\n",
       "      <td>434.0</td>\n",
       "      <td>1000005</td>\n",
       "    </tr>\n",
       "  </tbody>\n",
       "</table>\n",
       "<p>5 rows × 100 columns</p>\n",
       "</div>"
      ],
      "text/plain": [
       "   rev_Mean  mou_Mean  totmrc_Mean  da_Mean  ovrmou_Mean  ovrrev_Mean  \\\n",
       "0   23.9975    219.25       22.500   0.2475         0.00          0.0   \n",
       "1   57.4925    482.75       37.425   0.2475        22.75          9.1   \n",
       "2   16.9900     10.25       16.990   0.0000         0.00          0.0   \n",
       "3   38.0000      7.50       38.000   0.0000         0.00          0.0   \n",
       "4   55.2300    570.50       71.980   0.0000         0.00          0.0   \n",
       "\n",
       "   vceovr_Mean  datovr_Mean  roam_Mean  change_mou  ...  forgntvl  ethnic  \\\n",
       "0          0.0          0.0        0.0     -157.25  ...       0.0       N   \n",
       "1          9.1          0.0        0.0      532.25  ...       0.0       Z   \n",
       "2          0.0          0.0        0.0       -4.25  ...       0.0       N   \n",
       "3          0.0          0.0        0.0       -1.50  ...       0.0       U   \n",
       "4          0.0          0.0        0.0       38.50  ...       0.0       I   \n",
       "\n",
       "   kid0_2  kid3_5  kid6_10  kid11_15  kid16_17  creditcd  eqpdays  Customer_ID  \n",
       "0       U       U        U         U         U         Y    361.0      1000001  \n",
       "1       U       U        U         U         U         Y    240.0      1000002  \n",
       "2       U       Y        U         U         U         Y   1504.0      1000003  \n",
       "3       Y       U        U         U         U         Y   1812.0      1000004  \n",
       "4       U       U        U         U         U         Y    434.0      1000005  \n",
       "\n",
       "[5 rows x 100 columns]"
      ]
     },
     "execution_count": 2,
     "metadata": {},
     "output_type": "execute_result"
    }
   ],
   "source": [
    "data = pd.read_csv('churn_dataset.csv')\n",
    "data.head()"
   ]
  },
  {
   "cell_type": "markdown",
   "id": "626e7dcb",
   "metadata": {},
   "source": [
    "Нам предоставлен датасет с данными по оттоку пользователей. Целевая переменная churn, бинарный флаг “отток / не отток”. "
   ]
  },
  {
   "cell_type": "markdown",
   "id": "d5ece235",
   "metadata": {},
   "source": [
    "## Предобработка"
   ]
  },
  {
   "cell_type": "markdown",
   "id": "b7c1663c",
   "metadata": {},
   "source": [
    "### Анализ данных"
   ]
  },
  {
   "cell_type": "code",
   "execution_count": 3,
   "id": "767ed8c3",
   "metadata": {},
   "outputs": [
    {
     "name": "stdout",
     "output_type": "stream",
     "text": [
      "<class 'pandas.core.frame.DataFrame'>\n",
      "RangeIndex: 100000 entries, 0 to 99999\n",
      "Data columns (total 100 columns):\n",
      " #   Column            Non-Null Count   Dtype  \n",
      "---  ------            --------------   -----  \n",
      " 0   rev_Mean          99643 non-null   float64\n",
      " 1   mou_Mean          99643 non-null   float64\n",
      " 2   totmrc_Mean       99643 non-null   float64\n",
      " 3   da_Mean           99643 non-null   float64\n",
      " 4   ovrmou_Mean       99643 non-null   float64\n",
      " 5   ovrrev_Mean       99643 non-null   float64\n",
      " 6   vceovr_Mean       99643 non-null   float64\n",
      " 7   datovr_Mean       99643 non-null   float64\n",
      " 8   roam_Mean         99643 non-null   float64\n",
      " 9   change_mou        99109 non-null   float64\n",
      " 10  change_rev        99109 non-null   float64\n",
      " 11  drop_vce_Mean     100000 non-null  float64\n",
      " 12  drop_dat_Mean     100000 non-null  float64\n",
      " 13  blck_vce_Mean     100000 non-null  float64\n",
      " 14  blck_dat_Mean     100000 non-null  float64\n",
      " 15  unan_vce_Mean     100000 non-null  float64\n",
      " 16  unan_dat_Mean     100000 non-null  float64\n",
      " 17  plcd_vce_Mean     100000 non-null  float64\n",
      " 18  plcd_dat_Mean     100000 non-null  float64\n",
      " 19  recv_vce_Mean     100000 non-null  float64\n",
      " 20  recv_sms_Mean     100000 non-null  float64\n",
      " 21  comp_vce_Mean     100000 non-null  float64\n",
      " 22  comp_dat_Mean     100000 non-null  float64\n",
      " 23  custcare_Mean     100000 non-null  float64\n",
      " 24  ccrndmou_Mean     100000 non-null  float64\n",
      " 25  cc_mou_Mean       100000 non-null  float64\n",
      " 26  inonemin_Mean     100000 non-null  float64\n",
      " 27  threeway_Mean     100000 non-null  float64\n",
      " 28  mou_cvce_Mean     100000 non-null  float64\n",
      " 29  mou_cdat_Mean     100000 non-null  float64\n",
      " 30  mou_rvce_Mean     100000 non-null  float64\n",
      " 31  owylis_vce_Mean   100000 non-null  float64\n",
      " 32  mouowylisv_Mean   100000 non-null  float64\n",
      " 33  iwylis_vce_Mean   100000 non-null  float64\n",
      " 34  mouiwylisv_Mean   100000 non-null  float64\n",
      " 35  peak_vce_Mean     100000 non-null  float64\n",
      " 36  peak_dat_Mean     100000 non-null  float64\n",
      " 37  mou_peav_Mean     100000 non-null  float64\n",
      " 38  mou_pead_Mean     100000 non-null  float64\n",
      " 39  opk_vce_Mean      100000 non-null  float64\n",
      " 40  opk_dat_Mean      100000 non-null  float64\n",
      " 41  mou_opkv_Mean     100000 non-null  float64\n",
      " 42  mou_opkd_Mean     100000 non-null  float64\n",
      " 43  drop_blk_Mean     100000 non-null  float64\n",
      " 44  attempt_Mean      100000 non-null  float64\n",
      " 45  complete_Mean     100000 non-null  float64\n",
      " 46  callfwdv_Mean     100000 non-null  float64\n",
      " 47  callwait_Mean     100000 non-null  float64\n",
      " 48  churn             100000 non-null  int64  \n",
      " 49  months            100000 non-null  int64  \n",
      " 50  uniqsubs          100000 non-null  int64  \n",
      " 51  actvsubs          100000 non-null  int64  \n",
      " 52  new_cell          100000 non-null  object \n",
      " 53  crclscod          100000 non-null  object \n",
      " 54  asl_flag          100000 non-null  object \n",
      " 55  totcalls          100000 non-null  int64  \n",
      " 56  totmou            100000 non-null  float64\n",
      " 57  totrev            100000 non-null  float64\n",
      " 58  adjrev            100000 non-null  float64\n",
      " 59  adjmou            100000 non-null  float64\n",
      " 60  adjqty            100000 non-null  int64  \n",
      " 61  avgrev            100000 non-null  float64\n",
      " 62  avgmou            100000 non-null  float64\n",
      " 63  avgqty            100000 non-null  float64\n",
      " 64  avg3mou           100000 non-null  int64  \n",
      " 65  avg3qty           100000 non-null  int64  \n",
      " 66  avg3rev           100000 non-null  int64  \n",
      " 67  avg6mou           97161 non-null   float64\n",
      " 68  avg6qty           97161 non-null   float64\n",
      " 69  avg6rev           97161 non-null   float64\n",
      " 70  prizm_social_one  92612 non-null   object \n",
      " 71  area              99960 non-null   object \n",
      " 72  dualband          99999 non-null   object \n",
      " 73  refurb_new        99999 non-null   object \n",
      " 74  hnd_price         99153 non-null   float64\n",
      " 75  phones            99999 non-null   float64\n",
      " 76  models            99999 non-null   float64\n",
      " 77  hnd_webcap        89811 non-null   object \n",
      " 78  truck             98268 non-null   float64\n",
      " 79  rv                98268 non-null   float64\n",
      " 80  ownrent           66294 non-null   object \n",
      " 81  lor               69810 non-null   float64\n",
      " 82  dwlltype          68091 non-null   object \n",
      " 83  marital           98268 non-null   object \n",
      " 84  adults            76981 non-null   float64\n",
      " 85  infobase          77921 non-null   object \n",
      " 86  income            74564 non-null   float64\n",
      " 87  numbcars          50634 non-null   float64\n",
      " 88  HHstatin          62077 non-null   object \n",
      " 89  dwllsize          61692 non-null   object \n",
      " 90  forgntvl          98268 non-null   float64\n",
      " 91  ethnic            98268 non-null   object \n",
      " 92  kid0_2            98268 non-null   object \n",
      " 93  kid3_5            98268 non-null   object \n",
      " 94  kid6_10           98268 non-null   object \n",
      " 95  kid11_15          98268 non-null   object \n",
      " 96  kid16_17          98268 non-null   object \n",
      " 97  creditcd          98268 non-null   object \n",
      " 98  eqpdays           99999 non-null   float64\n",
      " 99  Customer_ID       100000 non-null  int64  \n",
      "dtypes: float64(69), int64(10), object(21)\n",
      "memory usage: 76.3+ MB\n"
     ]
    }
   ],
   "source": [
    "data.info()"
   ]
  },
  {
   "cell_type": "code",
   "execution_count": 4,
   "id": "05bb1a6f",
   "metadata": {
    "scrolled": true
   },
   "outputs": [
    {
     "data": {
      "text/plain": [
       "numbcars            49366\n",
       "dwllsize            38308\n",
       "HHstatin            37923\n",
       "ownrent             33706\n",
       "dwlltype            31909\n",
       "lor                 30190\n",
       "income              25436\n",
       "adults              23019\n",
       "infobase            22079\n",
       "hnd_webcap          10189\n",
       "prizm_social_one     7388\n",
       "avg6rev              2839\n",
       "avg6mou              2839\n",
       "avg6qty              2839\n",
       "ethnic               1732\n",
       "rv                   1732\n",
       "marital              1732\n",
       "forgntvl             1732\n",
       "kid0_2               1732\n",
       "kid3_5               1732\n",
       "kid6_10              1732\n",
       "kid16_17             1732\n",
       "creditcd             1732\n",
       "truck                1732\n",
       "kid11_15             1732\n",
       "change_rev            891\n",
       "change_mou            891\n",
       "hnd_price             847\n",
       "mou_Mean              357\n",
       "rev_Mean              357\n",
       "da_Mean               357\n",
       "datovr_Mean           357\n",
       "totmrc_Mean           357\n",
       "ovrmou_Mean           357\n",
       "ovrrev_Mean           357\n",
       "vceovr_Mean           357\n",
       "roam_Mean             357\n",
       "area                   40\n",
       "refurb_new              1\n",
       "dualband                1\n",
       "phones                  1\n",
       "models                  1\n",
       "eqpdays                 1\n",
       "avgrev                  0\n",
       "totrev                  0\n",
       "dtype: int64"
      ]
     },
     "execution_count": 4,
     "metadata": {},
     "output_type": "execute_result"
    }
   ],
   "source": [
    "data.isna().sum().sort_values(ascending=False).head(45)"
   ]
  },
  {
   "cell_type": "markdown",
   "id": "677ee802",
   "metadata": {},
   "source": [
    "В данных замечены следующие первичные проблемы:\n",
    "1. Пропуски в данных\n",
    "2. Дробные категориальные значения\n",
    "3. Названия некоторых столбцов в верхнем регистре"
   ]
  },
  {
   "cell_type": "code",
   "execution_count": 5,
   "id": "0b109974",
   "metadata": {},
   "outputs": [],
   "source": [
    "#report = sv.analyze([data, \"a\"])\n",
    "#report.show_html('common analysis.html')"
   ]
  },
  {
   "cell_type": "markdown",
   "id": "4877912e",
   "metadata": {},
   "source": [
    "### Обработка пропусков"
   ]
  },
  {
   "cell_type": "markdown",
   "id": "24c543f5",
   "metadata": {},
   "source": [
    "**Проанализировав данные с помощью библиотеки Sweetviz мы можем заметить следующее:**"
   ]
  },
  {
   "cell_type": "markdown",
   "id": "1e19f36b",
   "metadata": {},
   "source": [
    "Пропуски в столбцах количества машин и тип жилья занимают 49% и 34% от всех данных, выделим их в отдельную категорию, так как у них практически  отсутствует зависимость от других признаков."
   ]
  },
  {
   "cell_type": "code",
   "execution_count": 6,
   "id": "982479d6",
   "metadata": {},
   "outputs": [],
   "source": [
    "data['ownrent'].fillna('N', inplace=True)\n",
    "data['numbcars'].fillna('0', inplace=True)"
   ]
  },
  {
   "cell_type": "markdown",
   "id": "ab47e40e",
   "metadata": {},
   "source": [
    "Признаки `dwllsize` и `dwlltype` взаимозависимы, поэтому заполним значения относительно имеющихся данных в этих столбцах."
   ]
  },
  {
   "cell_type": "code",
   "execution_count": 7,
   "id": "1a572754",
   "metadata": {},
   "outputs": [],
   "source": [
    "data['dwlltype'].fillna('none', inplace=True)\n",
    "data['dwllsize'].fillna('none', inplace=True)\n",
    "\n",
    "data.loc[(data['dwllsize'] == 'none')&(data['dwlltype'] == 'S'), 'dwllsize'] = 'A'\n",
    "data.loc[(data['dwllsize'] == 'none')&(data['dwlltype'] == 'M'), 'dwllsize'] = 'B'\n",
    "\n",
    "# в строках, где отсутствуют оба значения, выделим пропуски в отдельную категорию.\n",
    "\n",
    "data.loc[data['dwlltype'] == 'none', 'dwlltype'] = 'None'\n",
    "data.loc[data['dwllsize'] == 'none', 'dwllsize'] = 'None'"
   ]
  },
  {
   "cell_type": "code",
   "execution_count": 8,
   "id": "2f0cb616",
   "metadata": {},
   "outputs": [
    {
     "data": {
      "text/plain": [
       "22       NaN\n",
       "29       NaN\n",
       "42       NaN\n",
       "49       NaN\n",
       "55       NaN\n",
       "        ... \n",
       "99972    NaN\n",
       "99974    NaN\n",
       "99980    NaN\n",
       "99983    NaN\n",
       "99998    NaN\n",
       "Name: HHstatin, Length: 22079, dtype: object"
      ]
     },
     "execution_count": 8,
     "metadata": {},
     "output_type": "execute_result"
    }
   ],
   "source": [
    "# исследуем следующую категорию пропусков\n",
    "data.loc[(data['infobase'].isna() ==True)]['HHstatin']"
   ]
  },
  {
   "cell_type": "markdown",
   "id": "0eff7526",
   "metadata": {},
   "source": [
    "Предположительно: так как в большинстве случаев, пропуски встречаются в одних и тех же строках, в столбце `infobase` информация о том, есть ли данные о пользователе или их нет. Если данных нет - указано значение N или пропуск, которые соответствуют пропускам в столбцах `adults`, `income`, `HHstatin`. Так как в данных строках отсутствует сразу несколько признаков, удалим их."
   ]
  },
  {
   "cell_type": "code",
   "execution_count": 9,
   "id": "94e20567",
   "metadata": {},
   "outputs": [],
   "source": [
    "data.dropna(subset = ['infobase'], inplace = True)\n",
    "\n",
    "index = data.loc[(data['infobase'] == 'N')]['income']\n",
    "data.drop(index=(index.index), inplace=True)"
   ]
  },
  {
   "cell_type": "markdown",
   "id": "538c49ec",
   "metadata": {},
   "source": [
    "Cтолбцы `avg6mou`, `avg6qty`, `avg6rev` коррелируются со значениями в столбцах `avg3mou`, `avg3qty`, `avg3rev` - средняя разница между значениями по всем строкам низка, поэтому можем заполнить пропуски в столбцах  `avg6mou`... значениями из соответствующих стобцов."
   ]
  },
  {
   "cell_type": "code",
   "execution_count": 10,
   "id": "d0029892",
   "metadata": {},
   "outputs": [
    {
     "name": "stdout",
     "output_type": "stream",
     "text": [
      "Средняя разница значений в столбцах:  [-6.825489808034831, -1.3649449172108978, -0.3975987861996174]\n"
     ]
    }
   ],
   "source": [
    "dif = [(data['avg6mou'] - data['avg3mou']).mean(), (data['avg6qty'] - data['avg3qty']).mean(), \n",
    "       (data['avg6rev'] - data['avg3rev']).mean()]\n",
    "print ('Средняя разница значений в столбцах: ', dif)"
   ]
  },
  {
   "cell_type": "code",
   "execution_count": 11,
   "id": "e5a73421",
   "metadata": {},
   "outputs": [],
   "source": [
    "data['avg6mou'].fillna(data['avg3mou'], inplace=True)\n",
    "data['avg6qty'].fillna(data['avg3qty'], inplace=True)\n",
    "data['avg6rev'].fillna(data['avg3rev'], inplace=True)"
   ]
  },
  {
   "cell_type": "markdown",
   "id": "1178cc52",
   "metadata": {},
   "source": [
    "В столбце `hnd_webcap` 2 категории: `WCMB` - 80% и `WC` - 15%, заполним соответсвенно процентному соотношению."
   ]
  },
  {
   "cell_type": "code",
   "execution_count": 12,
   "id": "6e047eb8",
   "metadata": {},
   "outputs": [],
   "source": [
    "data['hnd_webcap'].fillna('WCMB', limit=8500, inplace=True)\n",
    "data['hnd_webcap'].fillna('WC', inplace=True)"
   ]
  },
  {
   "cell_type": "code",
   "execution_count": 13,
   "id": "d191914a",
   "metadata": {},
   "outputs": [],
   "source": [
    "# пропуски в столбце `prizm_social_one` выделим в отдельную категорию\n",
    "data['prizm_social_one'].fillna('N', inplace=True)\n",
    "\n",
    "# оставшиеся пропуски `HHstatin` выделим в отдельную категорию\n",
    "data['HHstatin'].fillna('None', inplace=True)"
   ]
  },
  {
   "cell_type": "code",
   "execution_count": 14,
   "id": "fb832fc8",
   "metadata": {},
   "outputs": [],
   "source": [
    "# пропуски в столбце `area` менее 1%, заменим самым часто встречающимся значением\n",
    "data['area'].fillna('NEW YORK CITY AREA', inplace=True)\n",
    "\n",
    "# пропуски в `lor` заменим на предыдущее значение, так как данные распределены равномерно\n",
    "data['lor'].fillna(method=\"ffill\", inplace=True)"
   ]
  },
  {
   "cell_type": "code",
   "execution_count": 15,
   "id": "aeec2e9f",
   "metadata": {},
   "outputs": [],
   "source": [
    "# для красоты заменим оставшиеся пропуски средними и медианой, так как их менее 1%\n",
    "median = ['income', 'adults']\n",
    "mean = ['change_mou', 'hnd_price', 'change_rev', 'ovrrev_Mean', 'vceovr_Mean','datovr_Mean', \n",
    "        'roam_Mean', 'ovrmou_Mean', 'da_Mean', 'mou_Mean', 'totmrc_Mean', 'rev_Mean']\n",
    "for i in median:\n",
    "    data[i].fillna(data[i].median(), inplace=True)\n",
    "\n",
    "for i in mean:\n",
    "    data[i].fillna(data[i].mean(), inplace=True)\n"
   ]
  },
  {
   "cell_type": "code",
   "execution_count": 16,
   "id": "8ed33bc1",
   "metadata": {},
   "outputs": [
    {
     "data": {
      "text/plain": [
       "rev_Mean      0\n",
       "avgqty        0\n",
       "refurb_new    0\n",
       "dualband      0\n",
       "area          0\n",
       "dtype: int64"
      ]
     },
     "execution_count": 16,
     "metadata": {},
     "output_type": "execute_result"
    }
   ],
   "source": [
    "# проверим, все ли пропуски заполнены\n",
    "data.isna().sum().sort_values(ascending=False).head()"
   ]
  },
  {
   "cell_type": "markdown",
   "id": "dc3d8cb3",
   "metadata": {},
   "source": [
    "### Обработка данных"
   ]
  },
  {
   "cell_type": "code",
   "execution_count": 17,
   "id": "2f3a2259",
   "metadata": {},
   "outputs": [],
   "source": [
    "# приведем названия столбцов к нижнему регистру\n",
    "data.columns = data.columns.str.lower()"
   ]
  },
  {
   "cell_type": "code",
   "execution_count": 18,
   "id": "1c822adc",
   "metadata": {},
   "outputs": [],
   "source": [
    "# удалим столбец с ID пользователя, мы сможем его найти по индексу\n",
    "data = data.drop('customer_id', axis=1)"
   ]
  },
  {
   "cell_type": "code",
   "execution_count": 19,
   "id": "32d558c0",
   "metadata": {},
   "outputs": [],
   "source": [
    "# заменим категориальные значения на целочисленные\n",
    "cats = ['forgntvl', 'eqpdays', 'numbcars', 'adults', 'lor', 'rv', 'truck', 'models', 'phones']\n",
    "\n",
    "data[cats] = data[cats].astype('int', errors='ignore')"
   ]
  },
  {
   "cell_type": "markdown",
   "id": "f5c46156",
   "metadata": {},
   "source": [
    "### Анализ аномальных значений"
   ]
  },
  {
   "cell_type": "code",
   "execution_count": 20,
   "id": "9f49721a",
   "metadata": {
    "scrolled": true
   },
   "outputs": [
    {
     "name": "stdout",
     "output_type": "stream",
     "text": [
      "<class 'pandas.core.frame.DataFrame'>\n",
      "Int64Index: 77697 entries, 0 to 99999\n",
      "Data columns (total 99 columns):\n",
      " #   Column            Non-Null Count  Dtype  \n",
      "---  ------            --------------  -----  \n",
      " 0   rev_mean          77697 non-null  float64\n",
      " 1   mou_mean          77697 non-null  float64\n",
      " 2   totmrc_mean       77697 non-null  float64\n",
      " 3   da_mean           77697 non-null  float64\n",
      " 4   ovrmou_mean       77697 non-null  float64\n",
      " 5   ovrrev_mean       77697 non-null  float64\n",
      " 6   vceovr_mean       77697 non-null  float64\n",
      " 7   datovr_mean       77697 non-null  float64\n",
      " 8   roam_mean         77697 non-null  float64\n",
      " 9   change_mou        77697 non-null  float64\n",
      " 10  change_rev        77697 non-null  float64\n",
      " 11  drop_vce_mean     77697 non-null  float64\n",
      " 12  drop_dat_mean     77697 non-null  float64\n",
      " 13  blck_vce_mean     77697 non-null  float64\n",
      " 14  blck_dat_mean     77697 non-null  float64\n",
      " 15  unan_vce_mean     77697 non-null  float64\n",
      " 16  unan_dat_mean     77697 non-null  float64\n",
      " 17  plcd_vce_mean     77697 non-null  float64\n",
      " 18  plcd_dat_mean     77697 non-null  float64\n",
      " 19  recv_vce_mean     77697 non-null  float64\n",
      " 20  recv_sms_mean     77697 non-null  float64\n",
      " 21  comp_vce_mean     77697 non-null  float64\n",
      " 22  comp_dat_mean     77697 non-null  float64\n",
      " 23  custcare_mean     77697 non-null  float64\n",
      " 24  ccrndmou_mean     77697 non-null  float64\n",
      " 25  cc_mou_mean       77697 non-null  float64\n",
      " 26  inonemin_mean     77697 non-null  float64\n",
      " 27  threeway_mean     77697 non-null  float64\n",
      " 28  mou_cvce_mean     77697 non-null  float64\n",
      " 29  mou_cdat_mean     77697 non-null  float64\n",
      " 30  mou_rvce_mean     77697 non-null  float64\n",
      " 31  owylis_vce_mean   77697 non-null  float64\n",
      " 32  mouowylisv_mean   77697 non-null  float64\n",
      " 33  iwylis_vce_mean   77697 non-null  float64\n",
      " 34  mouiwylisv_mean   77697 non-null  float64\n",
      " 35  peak_vce_mean     77697 non-null  float64\n",
      " 36  peak_dat_mean     77697 non-null  float64\n",
      " 37  mou_peav_mean     77697 non-null  float64\n",
      " 38  mou_pead_mean     77697 non-null  float64\n",
      " 39  opk_vce_mean      77697 non-null  float64\n",
      " 40  opk_dat_mean      77697 non-null  float64\n",
      " 41  mou_opkv_mean     77697 non-null  float64\n",
      " 42  mou_opkd_mean     77697 non-null  float64\n",
      " 43  drop_blk_mean     77697 non-null  float64\n",
      " 44  attempt_mean      77697 non-null  float64\n",
      " 45  complete_mean     77697 non-null  float64\n",
      " 46  callfwdv_mean     77697 non-null  float64\n",
      " 47  callwait_mean     77697 non-null  float64\n",
      " 48  churn             77697 non-null  int64  \n",
      " 49  months            77697 non-null  int64  \n",
      " 50  uniqsubs          77697 non-null  int64  \n",
      " 51  actvsubs          77697 non-null  int64  \n",
      " 52  new_cell          77697 non-null  object \n",
      " 53  crclscod          77697 non-null  object \n",
      " 54  asl_flag          77697 non-null  object \n",
      " 55  totcalls          77697 non-null  int64  \n",
      " 56  totmou            77697 non-null  float64\n",
      " 57  totrev            77697 non-null  float64\n",
      " 58  adjrev            77697 non-null  float64\n",
      " 59  adjmou            77697 non-null  float64\n",
      " 60  adjqty            77697 non-null  int64  \n",
      " 61  avgrev            77697 non-null  float64\n",
      " 62  avgmou            77697 non-null  float64\n",
      " 63  avgqty            77697 non-null  float64\n",
      " 64  avg3mou           77697 non-null  int64  \n",
      " 65  avg3qty           77697 non-null  int64  \n",
      " 66  avg3rev           77697 non-null  int64  \n",
      " 67  avg6mou           77697 non-null  float64\n",
      " 68  avg6qty           77697 non-null  float64\n",
      " 69  avg6rev           77697 non-null  float64\n",
      " 70  prizm_social_one  77697 non-null  object \n",
      " 71  area              77697 non-null  object \n",
      " 72  dualband          77697 non-null  object \n",
      " 73  refurb_new        77697 non-null  object \n",
      " 74  hnd_price         77697 non-null  float64\n",
      " 75  phones            77697 non-null  int32  \n",
      " 76  models            77697 non-null  int32  \n",
      " 77  hnd_webcap        77697 non-null  object \n",
      " 78  truck             77697 non-null  int32  \n",
      " 79  rv                77697 non-null  int32  \n",
      " 80  ownrent           77697 non-null  object \n",
      " 81  lor               77697 non-null  int32  \n",
      " 82  dwlltype          77697 non-null  object \n",
      " 83  marital           77697 non-null  object \n",
      " 84  adults            77697 non-null  int32  \n",
      " 85  infobase          77697 non-null  object \n",
      " 86  income            77697 non-null  float64\n",
      " 87  numbcars          77697 non-null  int32  \n",
      " 88  hhstatin          77697 non-null  object \n",
      " 89  dwllsize          77697 non-null  object \n",
      " 90  forgntvl          77697 non-null  int32  \n",
      " 91  ethnic            77697 non-null  object \n",
      " 92  kid0_2            77697 non-null  object \n",
      " 93  kid3_5            77697 non-null  object \n",
      " 94  kid6_10           77697 non-null  object \n",
      " 95  kid11_15          77697 non-null  object \n",
      " 96  kid16_17          77697 non-null  object \n",
      " 97  creditcd          77697 non-null  object \n",
      " 98  eqpdays           77697 non-null  int32  \n",
      "dtypes: float64(60), int32(9), int64(9), object(21)\n",
      "memory usage: 56.6+ MB\n"
     ]
    }
   ],
   "source": [
    "data.info()"
   ]
  },
  {
   "cell_type": "code",
   "execution_count": 21,
   "id": "8f435125",
   "metadata": {
    "scrolled": true
   },
   "outputs": [
    {
     "data": {
      "text/html": [
       "<div>\n",
       "<style scoped>\n",
       "    .dataframe tbody tr th:only-of-type {\n",
       "        vertical-align: middle;\n",
       "    }\n",
       "\n",
       "    .dataframe tbody tr th {\n",
       "        vertical-align: top;\n",
       "    }\n",
       "\n",
       "    .dataframe thead th {\n",
       "        text-align: right;\n",
       "    }\n",
       "</style>\n",
       "<table border=\"1\" class=\"dataframe\">\n",
       "  <thead>\n",
       "    <tr style=\"text-align: right;\">\n",
       "      <th></th>\n",
       "      <th>rev_mean</th>\n",
       "      <th>mou_mean</th>\n",
       "      <th>totmrc_mean</th>\n",
       "      <th>da_mean</th>\n",
       "      <th>ovrmou_mean</th>\n",
       "      <th>ovrrev_mean</th>\n",
       "      <th>vceovr_mean</th>\n",
       "      <th>datovr_mean</th>\n",
       "      <th>roam_mean</th>\n",
       "      <th>change_mou</th>\n",
       "      <th>...</th>\n",
       "      <th>phones</th>\n",
       "      <th>models</th>\n",
       "      <th>truck</th>\n",
       "      <th>rv</th>\n",
       "      <th>lor</th>\n",
       "      <th>adults</th>\n",
       "      <th>income</th>\n",
       "      <th>numbcars</th>\n",
       "      <th>forgntvl</th>\n",
       "      <th>eqpdays</th>\n",
       "    </tr>\n",
       "  </thead>\n",
       "  <tbody>\n",
       "    <tr>\n",
       "      <th>count</th>\n",
       "      <td>77697.000000</td>\n",
       "      <td>77697.000000</td>\n",
       "      <td>77697.000000</td>\n",
       "      <td>77697.000000</td>\n",
       "      <td>77697.000000</td>\n",
       "      <td>77697.000000</td>\n",
       "      <td>77697.000000</td>\n",
       "      <td>77697.000000</td>\n",
       "      <td>77697.000000</td>\n",
       "      <td>77697.000000</td>\n",
       "      <td>...</td>\n",
       "      <td>77697.000000</td>\n",
       "      <td>77697.000000</td>\n",
       "      <td>77697.000000</td>\n",
       "      <td>77697.000000</td>\n",
       "      <td>77697.000000</td>\n",
       "      <td>77697.000000</td>\n",
       "      <td>77697.000000</td>\n",
       "      <td>77697.000000</td>\n",
       "      <td>77697.000000</td>\n",
       "      <td>77697.000000</td>\n",
       "    </tr>\n",
       "    <tr>\n",
       "      <th>mean</th>\n",
       "      <td>56.952165</td>\n",
       "      <td>480.535758</td>\n",
       "      <td>45.158623</td>\n",
       "      <td>0.843956</td>\n",
       "      <td>38.900639</td>\n",
       "      <td>12.777618</td>\n",
       "      <td>12.537166</td>\n",
       "      <td>0.237695</td>\n",
       "      <td>1.236215</td>\n",
       "      <td>-11.898379</td>\n",
       "      <td>...</td>\n",
       "      <td>1.788409</td>\n",
       "      <td>1.546881</td>\n",
       "      <td>0.238812</td>\n",
       "      <td>0.104444</td>\n",
       "      <td>6.164614</td>\n",
       "      <td>2.525439</td>\n",
       "      <td>5.791858</td>\n",
       "      <td>1.021558</td>\n",
       "      <td>0.073323</td>\n",
       "      <td>406.172104</td>\n",
       "    </tr>\n",
       "    <tr>\n",
       "      <th>std</th>\n",
       "      <td>45.388809</td>\n",
       "      <td>504.344378</td>\n",
       "      <td>23.328964</td>\n",
       "      <td>2.127358</td>\n",
       "      <td>94.391558</td>\n",
       "      <td>29.283454</td>\n",
       "      <td>28.957005</td>\n",
       "      <td>2.821456</td>\n",
       "      <td>15.674610</td>\n",
       "      <td>265.107325</td>\n",
       "      <td>...</td>\n",
       "      <td>1.316768</td>\n",
       "      <td>0.902183</td>\n",
       "      <td>0.426361</td>\n",
       "      <td>0.305838</td>\n",
       "      <td>4.731776</td>\n",
       "      <td>1.446997</td>\n",
       "      <td>2.138109</td>\n",
       "      <td>0.901508</td>\n",
       "      <td>0.260668</td>\n",
       "      <td>263.915685</td>\n",
       "    </tr>\n",
       "    <tr>\n",
       "      <th>min</th>\n",
       "      <td>-6.167500</td>\n",
       "      <td>0.000000</td>\n",
       "      <td>-26.915000</td>\n",
       "      <td>0.000000</td>\n",
       "      <td>0.000000</td>\n",
       "      <td>0.000000</td>\n",
       "      <td>0.000000</td>\n",
       "      <td>0.000000</td>\n",
       "      <td>0.000000</td>\n",
       "      <td>-3875.000000</td>\n",
       "      <td>...</td>\n",
       "      <td>1.000000</td>\n",
       "      <td>1.000000</td>\n",
       "      <td>0.000000</td>\n",
       "      <td>0.000000</td>\n",
       "      <td>0.000000</td>\n",
       "      <td>1.000000</td>\n",
       "      <td>1.000000</td>\n",
       "      <td>0.000000</td>\n",
       "      <td>0.000000</td>\n",
       "      <td>-5.000000</td>\n",
       "    </tr>\n",
       "    <tr>\n",
       "      <th>25%</th>\n",
       "      <td>32.490000</td>\n",
       "      <td>137.000000</td>\n",
       "      <td>30.000000</td>\n",
       "      <td>0.000000</td>\n",
       "      <td>0.000000</td>\n",
       "      <td>0.000000</td>\n",
       "      <td>0.000000</td>\n",
       "      <td>0.000000</td>\n",
       "      <td>0.000000</td>\n",
       "      <td>-78.250000</td>\n",
       "      <td>...</td>\n",
       "      <td>1.000000</td>\n",
       "      <td>1.000000</td>\n",
       "      <td>0.000000</td>\n",
       "      <td>0.000000</td>\n",
       "      <td>2.000000</td>\n",
       "      <td>1.000000</td>\n",
       "      <td>4.000000</td>\n",
       "      <td>0.000000</td>\n",
       "      <td>0.000000</td>\n",
       "      <td>218.000000</td>\n",
       "    </tr>\n",
       "    <tr>\n",
       "      <th>50%</th>\n",
       "      <td>45.980000</td>\n",
       "      <td>327.750000</td>\n",
       "      <td>44.990000</td>\n",
       "      <td>0.247500</td>\n",
       "      <td>2.000000</td>\n",
       "      <td>0.700000</td>\n",
       "      <td>0.350000</td>\n",
       "      <td>0.000000</td>\n",
       "      <td>0.000000</td>\n",
       "      <td>-6.250000</td>\n",
       "      <td>...</td>\n",
       "      <td>1.000000</td>\n",
       "      <td>1.000000</td>\n",
       "      <td>0.000000</td>\n",
       "      <td>0.000000</td>\n",
       "      <td>5.000000</td>\n",
       "      <td>2.000000</td>\n",
       "      <td>6.000000</td>\n",
       "      <td>1.000000</td>\n",
       "      <td>0.000000</td>\n",
       "      <td>354.000000</td>\n",
       "    </tr>\n",
       "    <tr>\n",
       "      <th>75%</th>\n",
       "      <td>67.715000</td>\n",
       "      <td>648.750000</td>\n",
       "      <td>57.652500</td>\n",
       "      <td>0.742500</td>\n",
       "      <td>38.900639</td>\n",
       "      <td>12.962500</td>\n",
       "      <td>12.600000</td>\n",
       "      <td>0.000000</td>\n",
       "      <td>0.235000</td>\n",
       "      <td>57.500000</td>\n",
       "      <td>...</td>\n",
       "      <td>2.000000</td>\n",
       "      <td>2.000000</td>\n",
       "      <td>0.000000</td>\n",
       "      <td>0.000000</td>\n",
       "      <td>9.000000</td>\n",
       "      <td>3.000000</td>\n",
       "      <td>7.000000</td>\n",
       "      <td>2.000000</td>\n",
       "      <td>0.000000</td>\n",
       "      <td>559.000000</td>\n",
       "    </tr>\n",
       "    <tr>\n",
       "      <th>max</th>\n",
       "      <td>3843.262500</td>\n",
       "      <td>12206.750000</td>\n",
       "      <td>399.990000</td>\n",
       "      <td>159.390000</td>\n",
       "      <td>4320.750000</td>\n",
       "      <td>896.087500</td>\n",
       "      <td>896.087500</td>\n",
       "      <td>423.540000</td>\n",
       "      <td>3685.200000</td>\n",
       "      <td>31219.250000</td>\n",
       "      <td>...</td>\n",
       "      <td>28.000000</td>\n",
       "      <td>16.000000</td>\n",
       "      <td>1.000000</td>\n",
       "      <td>1.000000</td>\n",
       "      <td>15.000000</td>\n",
       "      <td>6.000000</td>\n",
       "      <td>9.000000</td>\n",
       "      <td>3.000000</td>\n",
       "      <td>1.000000</td>\n",
       "      <td>1823.000000</td>\n",
       "    </tr>\n",
       "  </tbody>\n",
       "</table>\n",
       "<p>8 rows × 78 columns</p>\n",
       "</div>"
      ],
      "text/plain": [
       "           rev_mean      mou_mean   totmrc_mean       da_mean   ovrmou_mean  \\\n",
       "count  77697.000000  77697.000000  77697.000000  77697.000000  77697.000000   \n",
       "mean      56.952165    480.535758     45.158623      0.843956     38.900639   \n",
       "std       45.388809    504.344378     23.328964      2.127358     94.391558   \n",
       "min       -6.167500      0.000000    -26.915000      0.000000      0.000000   \n",
       "25%       32.490000    137.000000     30.000000      0.000000      0.000000   \n",
       "50%       45.980000    327.750000     44.990000      0.247500      2.000000   \n",
       "75%       67.715000    648.750000     57.652500      0.742500     38.900639   \n",
       "max     3843.262500  12206.750000    399.990000    159.390000   4320.750000   \n",
       "\n",
       "        ovrrev_mean   vceovr_mean   datovr_mean     roam_mean    change_mou  \\\n",
       "count  77697.000000  77697.000000  77697.000000  77697.000000  77697.000000   \n",
       "mean      12.777618     12.537166      0.237695      1.236215    -11.898379   \n",
       "std       29.283454     28.957005      2.821456     15.674610    265.107325   \n",
       "min        0.000000      0.000000      0.000000      0.000000  -3875.000000   \n",
       "25%        0.000000      0.000000      0.000000      0.000000    -78.250000   \n",
       "50%        0.700000      0.350000      0.000000      0.000000     -6.250000   \n",
       "75%       12.962500     12.600000      0.000000      0.235000     57.500000   \n",
       "max      896.087500    896.087500    423.540000   3685.200000  31219.250000   \n",
       "\n",
       "       ...        phones        models         truck            rv  \\\n",
       "count  ...  77697.000000  77697.000000  77697.000000  77697.000000   \n",
       "mean   ...      1.788409      1.546881      0.238812      0.104444   \n",
       "std    ...      1.316768      0.902183      0.426361      0.305838   \n",
       "min    ...      1.000000      1.000000      0.000000      0.000000   \n",
       "25%    ...      1.000000      1.000000      0.000000      0.000000   \n",
       "50%    ...      1.000000      1.000000      0.000000      0.000000   \n",
       "75%    ...      2.000000      2.000000      0.000000      0.000000   \n",
       "max    ...     28.000000     16.000000      1.000000      1.000000   \n",
       "\n",
       "                lor        adults        income      numbcars      forgntvl  \\\n",
       "count  77697.000000  77697.000000  77697.000000  77697.000000  77697.000000   \n",
       "mean       6.164614      2.525439      5.791858      1.021558      0.073323   \n",
       "std        4.731776      1.446997      2.138109      0.901508      0.260668   \n",
       "min        0.000000      1.000000      1.000000      0.000000      0.000000   \n",
       "25%        2.000000      1.000000      4.000000      0.000000      0.000000   \n",
       "50%        5.000000      2.000000      6.000000      1.000000      0.000000   \n",
       "75%        9.000000      3.000000      7.000000      2.000000      0.000000   \n",
       "max       15.000000      6.000000      9.000000      3.000000      1.000000   \n",
       "\n",
       "            eqpdays  \n",
       "count  77697.000000  \n",
       "mean     406.172104  \n",
       "std      263.915685  \n",
       "min       -5.000000  \n",
       "25%      218.000000  \n",
       "50%      354.000000  \n",
       "75%      559.000000  \n",
       "max     1823.000000  \n",
       "\n",
       "[8 rows x 78 columns]"
      ]
     },
     "execution_count": 21,
     "metadata": {},
     "output_type": "execute_result"
    }
   ],
   "source": [
    "data.describe()"
   ]
  },
  {
   "cell_type": "markdown",
   "id": "fa7218d7",
   "metadata": {},
   "source": [
    "Посмотрим на распределение данных вокруг среднего в столбцах со средними значениями Mean."
   ]
  },
  {
   "cell_type": "code",
   "execution_count": 22,
   "id": "ae25f235",
   "metadata": {
    "scrolled": true
   },
   "outputs": [
    {
     "data": {
      "image/png": "[encoded data removed]",
      "text/plain": [
       "<Figure size 1440x360 with 6 Axes>"
      ]
     },
     "metadata": {
      "needs_background": "light"
     },
     "output_type": "display_data"
    },
    {
     "data": {
      "image/png": "[encoded data removed]",
      "text/plain": [
       "<Figure size 1440x360 with 6 Axes>"
      ]
     },
     "metadata": {
      "needs_background": "light"
     },
     "output_type": "display_data"
    },
    {
     "data": {
      "image/png": "[encoded data removed]",
      "text/plain": [
       "<Figure size 1440x360 with 6 Axes>"
      ]
     },
     "metadata": {
      "needs_background": "light"
     },
     "output_type": "display_data"
    },
    {
     "data": {
      "image/png": "[encoded data removed]",
      "text/plain": [
       "<Figure size 1440x360 with 6 Axes>"
      ]
     },
     "metadata": {
      "needs_background": "light"
     },
     "output_type": "display_data"
    },
    {
     "data": {
      "image/png": "[encoded data removed]",
      "text/plain": [
       "<Figure size 1440x360 with 6 Axes>"
      ]
     },
     "metadata": {
      "needs_background": "light"
     },
     "output_type": "display_data"
    }
   ],
   "source": [
    "# создадим список по 6 признаков\n",
    "row1 = list(data.columns[0:6])\n",
    "row2 = list(data.columns[6:13])\n",
    "row3 = list(data.columns[13:19])\n",
    "row4 = list(data.columns[19:25])\n",
    "row5 = list(data.columns[25:31])\n",
    "row = [row1, row2, row3, row4, row5]\n",
    "\n",
    "# цикл для построения диграмм\n",
    "for r in row:\n",
    "    figure, ax = plt.subplots(1, 6, figsize=(20, 5))\n",
    "    for i in range(6):\n",
    "        ax[i].boxplot(data[r[i]])\n",
    "        ax[i].set(title=r[i])\n",
    "    "
   ]
  },
  {
   "cell_type": "markdown",
   "id": "fe1f0cb8",
   "metadata": {},
   "source": [
    "Так как данных у нас достаточно много, много и аномалий, удалим их."
   ]
  },
  {
   "cell_type": "code",
   "execution_count": 23,
   "id": "7034636c",
   "metadata": {},
   "outputs": [],
   "source": [
    "# список с аномальными значениями\n",
    "rows = list(data.columns[:30])\n",
    "distinct = [1000, 4000, 200, 20, 1000, 100, \n",
    "            100, 50, 500, 5000, 2000, 100, \n",
    "            100, 20, 200, 10, 700, 100, \n",
    "            500, 50, 500, 100, 50, 100, \n",
    "            100, 500, 10, 1000, 500, 1000]\n",
    "\n",
    "# цикл для удаления аномалий\n",
    "for row in range(len(rows)):\n",
    "    data = data[(data[rows[row]] < distinct[row])]"
   ]
  },
  {
   "cell_type": "markdown",
   "id": "74f0411c",
   "metadata": {},
   "source": [
    "Исследуем аномалии в других столбцах."
   ]
  },
  {
   "cell_type": "code",
   "execution_count": 24,
   "id": "bf289110",
   "metadata": {},
   "outputs": [],
   "source": [
    "row = ['totcalls', 'totmou', 'totrev', 'adjrev', 'adjqty', 'eqpdays']"
   ]
  },
  {
   "cell_type": "code",
   "execution_count": 25,
   "id": "232d8131",
   "metadata": {},
   "outputs": [
    {
     "data": {
      "image/png": "[encoded data removed]",
      "text/plain": [
       "<Figure size 1440x504 with 6 Axes>"
      ]
     },
     "metadata": {
      "needs_background": "light"
     },
     "output_type": "display_data"
    }
   ],
   "source": [
    "figure, ax = plt.subplots(1, 6, figsize=(20, 7))\n",
    "\n",
    "# функция для построения диграмм\n",
    "for i in range(6):\n",
    "    ax[i].boxplot(data[row[i]])\n",
    "    ax[i].set(title=row[i])"
   ]
  },
  {
   "cell_type": "code",
   "execution_count": 26,
   "id": "19b2766f",
   "metadata": {},
   "outputs": [
    {
     "data": {
      "text/plain": [
       "(24468, 99)"
      ]
     },
     "execution_count": 26,
     "metadata": {},
     "output_type": "execute_result"
    }
   ],
   "source": [
    "# удалим аномалии\n",
    "rows = list(data[row])\n",
    "\n",
    "distinct = [20000, 40000, 3000, 3000, 10000, 1500]\n",
    "\n",
    "for row in range(len(rows)):\n",
    "    data = data[(data[rows[row]] < distinct[row])]\n",
    "    \n",
    "data.shape"
   ]
  },
  {
   "cell_type": "markdown",
   "id": "f65774b1",
   "metadata": {},
   "source": [
    "Мы удалили по возможности аномальные значения."
   ]
  },
  {
   "cell_type": "markdown",
   "id": "cb22c24a",
   "metadata": {},
   "source": [
    "### Подготовка признаков"
   ]
  },
  {
   "cell_type": "markdown",
   "id": "8e6c3bf0",
   "metadata": {},
   "source": [
    "**Кодировка**"
   ]
  },
  {
   "cell_type": "markdown",
   "id": "307b2af9",
   "metadata": {},
   "source": [
    "Подготовим отдельный датасет с численными признаками для моделей, которые не обучаются на категориальных данных."
   ]
  },
  {
   "cell_type": "code",
   "execution_count": 27,
   "id": "cb151eed",
   "metadata": {},
   "outputs": [
    {
     "data": {
      "text/plain": [
       "Index(['rev_mean', 'mou_mean', 'totmrc_mean', 'da_mean', 'ovrmou_mean',\n",
       "       'ovrrev_mean', 'vceovr_mean', 'datovr_mean', 'roam_mean', 'change_mou',\n",
       "       ...\n",
       "       'ethnic_S', 'ethnic_U', 'ethnic_X', 'ethnic_Z', 'kid0_2_Y', 'kid3_5_Y',\n",
       "       'kid6_10_Y', 'kid11_15_Y', 'kid16_17_Y', 'creditcd_Y'],\n",
       "      dtype='object', length=206)"
      ]
     },
     "execution_count": 27,
     "metadata": {},
     "output_type": "execute_result"
    }
   ],
   "source": [
    "data_ohe = pd.get_dummies(data, drop_first=True)\n",
    "data_ohe.columns"
   ]
  },
  {
   "cell_type": "code",
   "execution_count": 28,
   "id": "6f2fd818",
   "metadata": {},
   "outputs": [
    {
     "data": {
      "text/plain": [
       "(24468, 99)"
      ]
     },
     "execution_count": 28,
     "metadata": {},
     "output_type": "execute_result"
    }
   ],
   "source": [
    "encoder = OrdinalEncoder()\n",
    "category = ['new_cell', 'crclscod', 'asl_flag', 'prizm_social_one', 'area', 'dualband', 'refurb_new', \n",
    "            'hnd_webcap', 'ownrent', 'dwlltype', 'marital', 'infobase', 'hhstatin', 'dwllsize',\n",
    "           'ethnic', 'kid0_2', 'kid3_5', 'kid6_10', 'kid11_15', 'kid16_17', 'creditcd']\n",
    "\n",
    "data[category] = encoder.fit_transform(data[category])\n",
    "data.shape"
   ]
  },
  {
   "cell_type": "markdown",
   "id": "4ed8dc7a",
   "metadata": {},
   "source": [
    "**Разделение на выборки**"
   ]
  },
  {
   "cell_type": "markdown",
   "id": "5c33a24e",
   "metadata": {},
   "source": [
    "Разделим данные для кросс-валидации на тренировочную и тестовую: 75% и 25% соответственно"
   ]
  },
  {
   "cell_type": "code",
   "execution_count": 29,
   "id": "56fcb6d2",
   "metadata": {},
   "outputs": [
    {
     "name": "stdout",
     "output_type": "stream",
     "text": [
      "Размер обучающей выборки:  (18351, 98)\n",
      "Размер тестовой выборки:  (6117, 98)\n"
     ]
    }
   ],
   "source": [
    "features = data.drop('churn', axis=1)\n",
    "target = data['churn']\n",
    "\n",
    "# разделение 25:75\n",
    "features_train, features_test, target_train, target_test = train_test_split(\n",
    "    features, target, test_size=0.25, random_state=12345)\n",
    "\n",
    "print ('Размер обучающей выборки: ', features_train.shape)\n",
    "print ('Размер тестовой выборки: ', features_test.shape)"
   ]
  },
  {
   "cell_type": "markdown",
   "id": "d4b64802",
   "metadata": {},
   "source": [
    "**Значимость признаков**"
   ]
  },
  {
   "cell_type": "markdown",
   "id": "06279f97",
   "metadata": {},
   "source": [
    "Проанализируем признаки, которые наиболее важны при моделировании"
   ]
  },
  {
   "cell_type": "code",
   "execution_count": 30,
   "id": "27c12b66",
   "metadata": {
    "scrolled": false
   },
   "outputs": [
    {
     "data": {
      "image/png": "[encoded data removed]",
      "text/plain": [
       "<Figure size 1440x720 with 1 Axes>"
      ]
     },
     "metadata": {
      "needs_background": "light"
     },
     "output_type": "display_data"
    }
   ],
   "source": [
    "feature_names = features_train.columns\n",
    "forest = RandomForestClassifier(random_state=0)\n",
    "forest.fit(features_train, target_train)\n",
    "\n",
    "importances = forest.feature_importances_\n",
    "std = np.std([tree.feature_importances_ for tree in forest.estimators_], axis=0)\n",
    "\n",
    "forest_importances = pd.Series(importances, index=feature_names)\n",
    "\n",
    "fig, ax = plt.subplots(figsize=(20,10))\n",
    "forest_importances.plot.bar(yerr=std, ax=ax)\n",
    "ax.set_title(\"Значимость признаков\")\n",
    "fig.tight_layout()"
   ]
  },
  {
   "cell_type": "markdown",
   "id": "98cf0586",
   "metadata": {},
   "source": [
    "Оставим только те признаки, значимость которых более 0.001."
   ]
  },
  {
   "cell_type": "code",
   "execution_count": 31,
   "id": "f08ae51d",
   "metadata": {
    "scrolled": true
   },
   "outputs": [],
   "source": [
    "importances = forest_importances[forest_importances > 0.001]\n",
    "features_train = features_train[list(importances.index)]\n",
    "features_test = features_test[list(importances.index)]"
   ]
  },
  {
   "cell_type": "markdown",
   "id": "4b0c53dc",
   "metadata": {},
   "source": [
    "**Масштабирование признаков**"
   ]
  },
  {
   "cell_type": "markdown",
   "id": "d5cd4876",
   "metadata": {},
   "source": [
    "Стандартизируем численные признаки датасета."
   ]
  },
  {
   "cell_type": "code",
   "execution_count": 32,
   "id": "f7ccd2dc",
   "metadata": {
    "scrolled": true
   },
   "outputs": [
    {
     "data": {
      "text/html": [
       "<div>\n",
       "<style scoped>\n",
       "    .dataframe tbody tr th:only-of-type {\n",
       "        vertical-align: middle;\n",
       "    }\n",
       "\n",
       "    .dataframe tbody tr th {\n",
       "        vertical-align: top;\n",
       "    }\n",
       "\n",
       "    .dataframe thead th {\n",
       "        text-align: right;\n",
       "    }\n",
       "</style>\n",
       "<table border=\"1\" class=\"dataframe\">\n",
       "  <thead>\n",
       "    <tr style=\"text-align: right;\">\n",
       "      <th></th>\n",
       "      <th>rev_mean</th>\n",
       "      <th>mou_mean</th>\n",
       "      <th>totmrc_mean</th>\n",
       "      <th>da_mean</th>\n",
       "      <th>ovrmou_mean</th>\n",
       "      <th>ovrrev_mean</th>\n",
       "      <th>vceovr_mean</th>\n",
       "      <th>datovr_mean</th>\n",
       "      <th>roam_mean</th>\n",
       "      <th>change_mou</th>\n",
       "      <th>...</th>\n",
       "      <th>dwllsize</th>\n",
       "      <th>forgntvl</th>\n",
       "      <th>ethnic</th>\n",
       "      <th>kid0_2</th>\n",
       "      <th>kid3_5</th>\n",
       "      <th>kid6_10</th>\n",
       "      <th>kid11_15</th>\n",
       "      <th>kid16_17</th>\n",
       "      <th>creditcd</th>\n",
       "      <th>eqpdays</th>\n",
       "    </tr>\n",
       "  </thead>\n",
       "  <tbody>\n",
       "    <tr>\n",
       "      <th>99988</th>\n",
       "      <td>1.044031</td>\n",
       "      <td>1.487213</td>\n",
       "      <td>0.562188</td>\n",
       "      <td>0.765514</td>\n",
       "      <td>1.195468</td>\n",
       "      <td>1.116773</td>\n",
       "      <td>1.111223</td>\n",
       "      <td>0.163202</td>\n",
       "      <td>0.150373</td>\n",
       "      <td>-0.110297</td>\n",
       "      <td>...</td>\n",
       "      <td>-0.286338</td>\n",
       "      <td>-0.31138</td>\n",
       "      <td>-1.183723</td>\n",
       "      <td>-0.238032</td>\n",
       "      <td>-0.258566</td>\n",
       "      <td>-0.338546</td>\n",
       "      <td>-0.344614</td>\n",
       "      <td>-0.352675</td>\n",
       "      <td>-2.773632</td>\n",
       "      <td>-1.526099</td>\n",
       "    </tr>\n",
       "    <tr>\n",
       "      <th>21302</th>\n",
       "      <td>-0.005603</td>\n",
       "      <td>-0.576159</td>\n",
       "      <td>-0.291530</td>\n",
       "      <td>-0.366634</td>\n",
       "      <td>-0.332247</td>\n",
       "      <td>-0.338745</td>\n",
       "      <td>-0.333970</td>\n",
       "      <td>-0.076801</td>\n",
       "      <td>0.546085</td>\n",
       "      <td>0.040886</td>\n",
       "      <td>...</td>\n",
       "      <td>2.400690</td>\n",
       "      <td>-0.31138</td>\n",
       "      <td>-0.624542</td>\n",
       "      <td>-0.238032</td>\n",
       "      <td>-0.258566</td>\n",
       "      <td>-0.338546</td>\n",
       "      <td>-0.344614</td>\n",
       "      <td>-0.352675</td>\n",
       "      <td>0.360538</td>\n",
       "      <td>-0.986453</td>\n",
       "    </tr>\n",
       "    <tr>\n",
       "      <th>67116</th>\n",
       "      <td>-0.306208</td>\n",
       "      <td>-0.115230</td>\n",
       "      <td>0.271289</td>\n",
       "      <td>-0.366634</td>\n",
       "      <td>-0.332247</td>\n",
       "      <td>-0.338745</td>\n",
       "      <td>-0.333970</td>\n",
       "      <td>-0.076801</td>\n",
       "      <td>-0.185540</td>\n",
       "      <td>0.320466</td>\n",
       "      <td>...</td>\n",
       "      <td>-0.493032</td>\n",
       "      <td>-0.31138</td>\n",
       "      <td>-0.065361</td>\n",
       "      <td>-0.238032</td>\n",
       "      <td>-0.258566</td>\n",
       "      <td>-0.338546</td>\n",
       "      <td>-0.344614</td>\n",
       "      <td>-0.352675</td>\n",
       "      <td>0.360538</td>\n",
       "      <td>-0.765524</td>\n",
       "    </tr>\n",
       "    <tr>\n",
       "      <th>66618</th>\n",
       "      <td>-1.128730</td>\n",
       "      <td>-0.565762</td>\n",
       "      <td>-1.416604</td>\n",
       "      <td>-0.366634</td>\n",
       "      <td>-0.332247</td>\n",
       "      <td>-0.338745</td>\n",
       "      <td>-0.333970</td>\n",
       "      <td>-0.076801</td>\n",
       "      <td>-0.185540</td>\n",
       "      <td>0.199687</td>\n",
       "      <td>...</td>\n",
       "      <td>0.540440</td>\n",
       "      <td>-0.31138</td>\n",
       "      <td>-0.065361</td>\n",
       "      <td>-0.238032</td>\n",
       "      <td>-0.258566</td>\n",
       "      <td>-0.338546</td>\n",
       "      <td>-0.344614</td>\n",
       "      <td>-0.352675</td>\n",
       "      <td>-2.773632</td>\n",
       "      <td>-1.689079</td>\n",
       "    </tr>\n",
       "    <tr>\n",
       "      <th>22493</th>\n",
       "      <td>0.931242</td>\n",
       "      <td>0.961427</td>\n",
       "      <td>0.834670</td>\n",
       "      <td>-0.034618</td>\n",
       "      <td>-0.332247</td>\n",
       "      <td>-0.338745</td>\n",
       "      <td>-0.333970</td>\n",
       "      <td>-0.076801</td>\n",
       "      <td>0.024369</td>\n",
       "      <td>1.125657</td>\n",
       "      <td>...</td>\n",
       "      <td>1.780607</td>\n",
       "      <td>-0.31138</td>\n",
       "      <td>-0.065361</td>\n",
       "      <td>-0.238032</td>\n",
       "      <td>-0.258566</td>\n",
       "      <td>-0.338546</td>\n",
       "      <td>-0.344614</td>\n",
       "      <td>-0.352675</td>\n",
       "      <td>-2.773632</td>\n",
       "      <td>-1.124081</td>\n",
       "    </tr>\n",
       "  </tbody>\n",
       "</table>\n",
       "<p>5 rows × 85 columns</p>\n",
       "</div>"
      ],
      "text/plain": [
       "       rev_mean  mou_mean  totmrc_mean   da_mean  ovrmou_mean  ovrrev_mean  \\\n",
       "99988  1.044031  1.487213     0.562188  0.765514     1.195468     1.116773   \n",
       "21302 -0.005603 -0.576159    -0.291530 -0.366634    -0.332247    -0.338745   \n",
       "67116 -0.306208 -0.115230     0.271289 -0.366634    -0.332247    -0.338745   \n",
       "66618 -1.128730 -0.565762    -1.416604 -0.366634    -0.332247    -0.338745   \n",
       "22493  0.931242  0.961427     0.834670 -0.034618    -0.332247    -0.338745   \n",
       "\n",
       "       vceovr_mean  datovr_mean  roam_mean  change_mou  ...  dwllsize  \\\n",
       "99988     1.111223     0.163202   0.150373   -0.110297  ... -0.286338   \n",
       "21302    -0.333970    -0.076801   0.546085    0.040886  ...  2.400690   \n",
       "67116    -0.333970    -0.076801  -0.185540    0.320466  ... -0.493032   \n",
       "66618    -0.333970    -0.076801  -0.185540    0.199687  ...  0.540440   \n",
       "22493    -0.333970    -0.076801   0.024369    1.125657  ...  1.780607   \n",
       "\n",
       "       forgntvl    ethnic    kid0_2    kid3_5   kid6_10  kid11_15  kid16_17  \\\n",
       "99988  -0.31138 -1.183723 -0.238032 -0.258566 -0.338546 -0.344614 -0.352675   \n",
       "21302  -0.31138 -0.624542 -0.238032 -0.258566 -0.338546 -0.344614 -0.352675   \n",
       "67116  -0.31138 -0.065361 -0.238032 -0.258566 -0.338546 -0.344614 -0.352675   \n",
       "66618  -0.31138 -0.065361 -0.238032 -0.258566 -0.338546 -0.344614 -0.352675   \n",
       "22493  -0.31138 -0.065361 -0.238032 -0.258566 -0.338546 -0.344614 -0.352675   \n",
       "\n",
       "       creditcd   eqpdays  \n",
       "99988 -2.773632 -1.526099  \n",
       "21302  0.360538 -0.986453  \n",
       "67116  0.360538 -0.765524  \n",
       "66618 -2.773632 -1.689079  \n",
       "22493 -2.773632 -1.124081  \n",
       "\n",
       "[5 rows x 85 columns]"
      ]
     },
     "execution_count": 32,
     "metadata": {},
     "output_type": "execute_result"
    }
   ],
   "source": [
    "# создадим список категоризированных данных\n",
    "category = ['new_cell', 'crclscod', 'asl_flag', 'prizm_social_one', 'area', 'dualband', 'refurb_new', \n",
    "            'hnd_webcap', 'ownrent', 'dwlltype', 'marital', 'infobase', 'hhstatin', 'dwllsize',\n",
    "           'ethnic', 'kid0_2', 'kid3_5', 'kid6_10', 'kid11_15', 'kid16_17', 'creditcd', 'phones', \n",
    "            'models', 'truck', 'rv', 'lor', 'adults', 'income', 'numbcars', 'forgntvl', 'uniqsubs',\n",
    "           'actvsubs', '']\n",
    "\n",
    "# функция для стандартизации численных признаков\n",
    "def scaler(features_train, features_test):\n",
    "    numeric = list(features_train.columns) #[i for i in list(features_train.columns) if i not in category]\n",
    "    \n",
    "    scaler = StandardScaler()\n",
    "    scaler.fit(features_train[numeric])\n",
    "    \n",
    "    features_train[numeric] = scaler.transform(features_train[numeric])\n",
    "    features_test[numeric] = scaler.transform(features_test[numeric])\n",
    "    \n",
    "    return features_train, features_test\n",
    "\n",
    "features_train, features_test = scaler(features_train, features_test)\n",
    "\n",
    "features_train.head()"
   ]
  },
  {
   "cell_type": "markdown",
   "id": "5a37562b",
   "metadata": {},
   "source": [
    "### Вывод:"
   ]
  },
  {
   "cell_type": "markdown",
   "id": "8f862069",
   "metadata": {},
   "source": [
    "Данные загружены и подготовлены:\n",
    "* Обработаны пропуски\n",
    "* Обработаны названия столбцов\n",
    "* Удалены неинформативные признаки\n",
    "* Обработаны аномалии\n",
    "* Данные стандартизированы\n",
    "* Данные разделены на выборки и подготовлены к обучению моделей"
   ]
  },
  {
   "cell_type": "markdown",
   "id": "6c4db290",
   "metadata": {},
   "source": [
    "## Обучение моделей"
   ]
  },
  {
   "cell_type": "markdown",
   "id": "cd0f99a1",
   "metadata": {},
   "source": [
    "**Дерево решений**"
   ]
  },
  {
   "cell_type": "markdown",
   "id": "c0243b33",
   "metadata": {},
   "source": [
    "Обучим модель дерева решений и проведем кросс-валидацию с помощью GridSearch"
   ]
  },
  {
   "cell_type": "code",
   "execution_count": 33,
   "id": "9e8c6669",
   "metadata": {},
   "outputs": [],
   "source": [
    "# features_train, target_train, features_test, target_test\n",
    "# зададим параметры для модели\n",
    "\n",
    "#parameters_tree = { 'max_depth': range (1, 15, 2), 'random_state' : [12345] }\n",
    "parameters_tree = { 'max_depth': range (1,13, 2), 'min_samples_leaf' : range (1, 3), 'min_samples_split' : range (2, 4)}"
   ]
  },
  {
   "cell_type": "code",
   "execution_count": 34,
   "id": "7a90e4af",
   "metadata": {},
   "outputs": [
    {
     "name": "stdout",
     "output_type": "stream",
     "text": [
      "По модели дерева решений лучший результат:  0.6397935670266677\n",
      "Лучшие параметры модели:  {'max_depth': 7, 'min_samples_leaf': 2, 'min_samples_split': 3}\n"
     ]
    }
   ],
   "source": [
    "# переберем гиперпараметры и проведем кросс-валидацию\n",
    "model_tree = DecisionTreeClassifier()\n",
    "\n",
    "grid_tree = GridSearchCV(model_tree, param_grid = parameters_tree, scoring = 'roc_auc', cv=4)\n",
    "\n",
    "# обучим модели\n",
    "grid_tree.fit(features_train, target_train)\n",
    "\n",
    "# определим лучшую модель\n",
    "print ('По модели дерева решений лучший результат: ', grid_tree.best_score_)\n",
    "print('Лучшие параметры модели: ', grid_tree.best_params_)"
   ]
  },
  {
   "cell_type": "markdown",
   "id": "05d98971",
   "metadata": {},
   "source": [
    "Результат дерева решений - 0.63, обучим другие модели."
   ]
  },
  {
   "cell_type": "markdown",
   "id": "fedcf933",
   "metadata": {},
   "source": [
    "**Случайный лес**"
   ]
  },
  {
   "cell_type": "markdown",
   "id": "02dddd6c",
   "metadata": {},
   "source": [
    "Для случайного леса создадим функцию, которая переберет параметры для целевого признака и проведет кросс-валидацию"
   ]
  },
  {
   "cell_type": "code",
   "execution_count": 35,
   "id": "a9891309",
   "metadata": {},
   "outputs": [
    {
     "name": "stdout",
     "output_type": "stream",
     "text": [
      "Лучшие параметры модели:  RandomForestClassifier(max_depth=9, n_estimators=40, random_state=12345)\n",
      "По модели случайного леса лучший результат:  0.6768237234710386\n"
     ]
    }
   ],
   "source": [
    "# напишем цикл для перебора параметров случайного леса\n",
    "\n",
    "model_forest = 0\n",
    "best_score = 0\n",
    "    \n",
    "for depth in range(1, 10):\n",
    "    for est in range(30, 41, 10):\n",
    "        model = RandomForestClassifier(random_state=12345, max_depth=depth, n_estimators=est)\n",
    "        scores = cross_val_score(model, features_train, target_train, cv=4, scoring = 'roc_auc')\n",
    "               \n",
    "        score = pd.Series(scores).mean()\n",
    "        if score > best_score:\n",
    "            best_score = score\n",
    "            model_forest = model\n",
    "                \n",
    "\n",
    "print('Лучшие параметры модели: ', model_forest)\n",
    "print ('По модели случайного леса лучший результат: ', best_score)"
   ]
  },
  {
   "cell_type": "markdown",
   "id": "502c90bc",
   "metadata": {},
   "source": [
    "**Логистическая регрессия**"
   ]
  },
  {
   "cell_type": "code",
   "execution_count": 36,
   "id": "ab8d4781",
   "metadata": {},
   "outputs": [
    {
     "name": "stdout",
     "output_type": "stream",
     "text": [
      "Результат логистической регрессии: 0.6460333401272935\n"
     ]
    }
   ],
   "source": [
    "# обучим логистическую регрессию и оценим качество кросс-валидацией\n",
    "\n",
    "lg_model = LogisticRegression(random_state=12345, solver='lbfgs', max_iter=1000)\n",
    "\n",
    "scores = cross_val_score(lg_model, features_train, target_train, cv=4, scoring = 'roc_auc')\n",
    "\n",
    "print ('Результат логистической регрессии:', scores.mean())"
   ]
  },
  {
   "cell_type": "markdown",
   "id": "c0f73e81",
   "metadata": {},
   "source": [
    "**Наивный байесовский алгоритм**"
   ]
  },
  {
   "cell_type": "code",
   "execution_count": 37,
   "id": "5293fd5a",
   "metadata": {},
   "outputs": [
    {
     "data": {
      "text/plain": [
       "'Результат Naive Bayes classifier:'"
      ]
     },
     "metadata": {},
     "output_type": "display_data"
    },
    {
     "data": {
      "text/plain": [
       "0.5927397837177405"
      ]
     },
     "metadata": {},
     "output_type": "display_data"
    }
   ],
   "source": [
    "gnb_model = GaussianNB()\n",
    "\n",
    "scores = cross_val_score(gnb_model, features_train, target_train, cv=4, scoring = 'roc_auc')\n",
    "\n",
    "display ('Результат Naive Bayes classifier:', scores.mean())"
   ]
  },
  {
   "cell_type": "markdown",
   "id": "25c6c87e",
   "metadata": {},
   "source": [
    "Наилучший результат показала модель Random Forest. Протестируем ее."
   ]
  },
  {
   "cell_type": "markdown",
   "id": "603f524a",
   "metadata": {},
   "source": [
    "## Тестирование модели"
   ]
  },
  {
   "cell_type": "markdown",
   "id": "62e8ad1f",
   "metadata": {},
   "source": [
    "Проверим модель на тестовой выборке."
   ]
  },
  {
   "cell_type": "code",
   "execution_count": 38,
   "id": "29e3ccb4",
   "metadata": {},
   "outputs": [
    {
     "name": "stdout",
     "output_type": "stream",
     "text": [
      "AUC-ROC модели на тестовой выборке:  0.6186667523281036\n"
     ]
    }
   ],
   "source": [
    "model_forest.fit(features_train, target_train)\n",
    "predictions_test = model_forest.predict(features_test)\n",
    "\n",
    "print ('AUC-ROC модели на тестовой выборке: ', roc_auc_score(predictions_test, target_test))"
   ]
  },
  {
   "cell_type": "markdown",
   "id": "22d69392",
   "metadata": {},
   "source": [
    "Проверим модель на адекватность - сравним с константной моделью DummyRegressor."
   ]
  },
  {
   "cell_type": "code",
   "execution_count": 39,
   "id": "67ed6226",
   "metadata": {},
   "outputs": [
    {
     "name": "stdout",
     "output_type": "stream",
     "text": [
      "AUC-ROC константной модели:  0.5\n"
     ]
    }
   ],
   "source": [
    "model = DummyClassifier(strategy=\"most_frequent\")\n",
    "model.fit(features_train, target_train)\n",
    "prediction_dumm = model.predict(features_test)\n",
    "\n",
    "print ('AUC-ROC константной модели: ', roc_auc_score(target_test, prediction_dumm))"
   ]
  },
  {
   "cell_type": "markdown",
   "id": "dc574d97",
   "metadata": {},
   "source": [
    "## Вывод"
   ]
  },
  {
   "cell_type": "markdown",
   "id": "a10e224f",
   "metadata": {},
   "source": [
    "\n",
    "Модель прошла тестирование и показала результат AUC-ROC 0.6. Наиболее удачная обученная модель - модель Random Forest с глубиной равной 3. Данная модель поможет предсказать уйдёт клиент в ближайшее время или нет.\n",
    "\n",
    "В исследовании оттока пользователей для поставленной задачи: построить модель классификации и спрогнозировать, уйдет пользователь сайта или нет, было выполнено следующее:\n",
    "\n",
    "1. Подготовленны данные:\n",
    "* Изучена csv таблица\n",
    "* Обработаны пропуски и аномалии\n",
    "* Закодированы данные с помощью техники OHE и OE\n",
    "* Разделены на выборки: тренировочную и тестовую\n",
    "* Стандартизированы\n",
    "\n",
    "2. Обучено и оценено несколько моделей:\n",
    "* DecisionTree\n",
    "* RandomForest\n",
    "* LogisticRegression\n",
    "* GaussianNB\n",
    "\n",
    "3. Модель протестирована:\n",
    "* Результат тестирования показал эффективность и адекватность модели за счет примерно равных значений метрик AUC-ROC тестовой и тренировочной выборки."
   ]
  },
  {
   "cell_type": "code",
   "execution_count": null,
   "id": "982d874c",
   "metadata": {},
   "outputs": [],
   "source": []
  }
 ],
 "metadata": {
  "kernelspec": {
   "display_name": "Python 3 (ipykernel)",
   "language": "python",
   "name": "python3"
  },
  "language_info": {
   "codemirror_mode": {
    "name": "ipython",
    "version": 3
   },
   "file_extension": ".py",
   "mimetype": "text/x-python",
   "name": "python",
   "nbconvert_exporter": "python",
   "pygments_lexer": "ipython3",
   "version": "3.9.7"
  }
 },
 "nbformat": 4,
 "nbformat_minor": 5
}
